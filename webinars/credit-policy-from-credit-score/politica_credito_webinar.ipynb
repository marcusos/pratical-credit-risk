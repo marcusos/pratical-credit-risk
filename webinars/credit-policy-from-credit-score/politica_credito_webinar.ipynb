{
 "cells": [
  {
   "cell_type": "markdown",
   "source": [
    "# LIVE - POLÍTICAS DE CRÉDITO COM ML\n",
    "### Marcus Oliveira da Silva\n",
    "\n",
    "* Linkedin: [marcuos](https://www.linkedin.com/in/marcuos/) (econometria, finanças, crédito, fintech e ML)\n",
    "* Dataset utilizado: [lending-club-clean](https://www.kaggle.com/datasets/marcusos/lending-club-clean)\n",
    "* Canal youtube: [link aqui][https://www.youtube.com/channel/UCDvMcAscFuz3eTC9dkKb5Og]\n",
    "\n",
    "**Libs utilizadas:**\n",
    "\n",
    "* lightgbm\n",
    "* scikit-learn\n",
    "* pyarrow (Feather)\n",
    "* pandas\n",
    "* seaborn\n",
    "\n",
    "## Baixando o dataset\n",
    "* Baixar o dataset `lending_club_smaller_sample.feather` para dentro da pasta `data` [link do dataset](https://www.kaggle.com/datasets/marcusos/lending-club-clean?select=lending_club_smaller_sample.feather)\n",
    "* Descompactar o arquivo `lending_club_smaller_sample.feather.zip` dentro da pasta `data`\n",
    "* Agora você deve ver o arquivo `lending_club_smaller_sample.feather` na pasta `data`\n",
    "\n"
   ],
   "metadata": {
    "collapsed": false
   }
  },
  {
   "cell_type": "markdown",
   "source": [
    "<img src=\"img.png\" alt=\"\" width=\"900\"/>"
   ],
   "metadata": {
    "collapsed": false
   }
  },
  {
   "cell_type": "markdown",
   "source": [
    "## Bibliotecas e Setup Inicial"
   ],
   "metadata": {
    "collapsed": false
   }
  },
  {
   "cell_type": "code",
   "execution_count": 1,
   "outputs": [
    {
     "data": {
      "text/plain": "'/Users/marcussilva/code/fintechscientist/pratical-credit-risk-course'"
     },
     "execution_count": 1,
     "metadata": {},
     "output_type": "execute_result"
    }
   ],
   "source": [
    "import os\n",
    "import pathlib\n",
    "\n",
    "path = os.path.join(pathlib.Path().absolute(), \"../../\")\n",
    "os.chdir(path)\n",
    "os.getcwd()"
   ],
   "metadata": {
    "collapsed": false,
    "ExecuteTime": {
     "start_time": "2023-04-06T18:48:31.944555Z",
     "end_time": "2023-04-06T18:48:31.960122Z"
    }
   }
  },
  {
   "cell_type": "code",
   "execution_count": 31,
   "outputs": [],
   "source": [
    "import pandas as pd\n",
    "import numpy as np\n",
    "\n",
    "# Machine Learning\n",
    "from sklearn.model_selection import train_test_split\n",
    "from lightgbm import LGBMClassifier\n",
    "\n",
    "# Metrics\n",
    "from sklearn.metrics import accuracy_score, precision_score, recall_score, f1_score\n",
    "from sklearn.metrics import  precision_recall_curve, roc_curve, roc_auc_score, average_precision_score\n",
    "from sklearn.metrics import confusion_matrix\n",
    "from sklearn.metrics import ConfusionMatrixDisplay, RocCurveDisplay, PrecisionRecallDisplay\n",
    "\n",
    "# Visualisation\n",
    "import matplotlib.pyplot as plt\n",
    "import seaborn as sns\n",
    "from matplotlib_venn import venn2, venn3\n",
    "\n",
    "primary_color = '#6938d4'\n",
    "analog_color = '#3855d4'\n",
    "analog_color2= '#b738d4'\n",
    "sec_color = '#a3d438'\n",
    "\n",
    "error_color = '#C62828'\n",
    "\n",
    "tria_color = '#d438a3'\n",
    "tria_color2 = '#d46938'"
   ],
   "metadata": {
    "collapsed": false,
    "ExecuteTime": {
     "start_time": "2023-04-06T19:32:25.924608Z",
     "end_time": "2023-04-06T19:32:26.002042Z"
    }
   }
  },
  {
   "cell_type": "code",
   "execution_count": 32,
   "outputs": [],
   "source": [
    "sns.set(style=\"ticks\", context=\"talk\")\n",
    "plt.style.use(['dark_background'])\n",
    "gray_label_bg = '#E0E0E0'\n",
    "plt.rcParams.update({\"grid.linewidth\":0.5, \"grid.alpha\":0.5, \"lines.linewidth\": 1.5, \"xtick.labelsize\": 11, \"ytick.labelsize\": 11, \"font.size\": 14,\n",
    "                     \"axes.labelsize\": 15,\n",
    "                     \"xtick.color\": gray_label_bg,\n",
    "                     \"ytick.color\": gray_label_bg,\n",
    "                     \"axes.facecolor\": '#121212',\n",
    "                     \"axes.edgecolor\" : gray_label_bg,\n",
    "                     \"axes.labelcolor\" : gray_label_bg,\n",
    "                     \"figure.facecolor\" : '#121212',\n",
    "                     #figure.edgecolor\n",
    "                     \"axes.axisbelow\": 'false',\n",
    "                     \"axes.linewidth\": 0.8,\n",
    "                     \"xtick.major.bottom\": \"true\",\n",
    "                     })"
   ],
   "metadata": {
    "collapsed": false,
    "ExecuteTime": {
     "start_time": "2023-04-06T19:32:27.558178Z",
     "end_time": "2023-04-06T19:32:27.672484Z"
    }
   }
  },
  {
   "cell_type": "markdown",
   "source": [
    "## Carregando o dataset"
   ],
   "metadata": {
    "collapsed": false
   }
  },
  {
   "cell_type": "code",
   "execution_count": 33,
   "outputs": [
    {
     "data": {
      "text/plain": "          id  loan_amnt  funded_amnt  funded_amnt_inv  term  int_rate  \\\n0   78428548       6400         6400           6400.0    36    0.1367   \n1  136264733      35000        35000          35000.0    36    0.1691   \n2  141294472      10000        10000          10000.0    36    0.1797   \n3   95218480      35000        35000          35000.0    36    0.1049   \n4  112117439       3500         3500           3500.0    36    0.1091   \n\n   installment grade sub_grade            emp_title  ... hardship_end_date  \\\n0   217.720001     C        C3  Web Support Analist  ...               NaT   \n1  1246.280029     C        C5       Vice President  ...               NaT   \n2   361.380005     D        D1         Dispatcher 3  ...               NaT   \n3  1137.430054     B        B2  Emergency Physician  ...               NaT   \n4   114.440002     B        B4              Grocery  ...               NaT   \n\n  payment_plan_start_date  hardship_length hardship_dpd hardship_loan_status  \\\n0                     NaT               -1           -1                  NaN   \n1                     NaT               -1           -1                  NaN   \n2                     NaT               -1           -1                  NaN   \n3                     NaT               -1           -1                  NaN   \n4                     NaT               -1           -1                  NaN   \n\n  orig_projected_additional_accrued_interest hardship_payoff_balance_amount  \\\n0                                       -1.0                           -1.0   \n1                                       -1.0                           -1.0   \n2                                       -1.0                           -1.0   \n3                                       -1.0                           -1.0   \n4                                       -1.0                           -1.0   \n\n  hardship_last_payment_amount debt_settlement_flag default  \n0                         -1.0                    N     0.0  \n1                         -1.0                    N     1.0  \n2                         -1.0                    N     0.0  \n3                         -1.0                    N     0.0  \n4                         -1.0                    N     0.0  \n\n[5 rows x 142 columns]",
      "text/html": "<div>\n<style scoped>\n    .dataframe tbody tr th:only-of-type {\n        vertical-align: middle;\n    }\n\n    .dataframe tbody tr th {\n        vertical-align: top;\n    }\n\n    .dataframe thead th {\n        text-align: right;\n    }\n</style>\n<table border=\"1\" class=\"dataframe\">\n  <thead>\n    <tr style=\"text-align: right;\">\n      <th></th>\n      <th>id</th>\n      <th>loan_amnt</th>\n      <th>funded_amnt</th>\n      <th>funded_amnt_inv</th>\n      <th>term</th>\n      <th>int_rate</th>\n      <th>installment</th>\n      <th>grade</th>\n      <th>sub_grade</th>\n      <th>emp_title</th>\n      <th>...</th>\n      <th>hardship_end_date</th>\n      <th>payment_plan_start_date</th>\n      <th>hardship_length</th>\n      <th>hardship_dpd</th>\n      <th>hardship_loan_status</th>\n      <th>orig_projected_additional_accrued_interest</th>\n      <th>hardship_payoff_balance_amount</th>\n      <th>hardship_last_payment_amount</th>\n      <th>debt_settlement_flag</th>\n      <th>default</th>\n    </tr>\n  </thead>\n  <tbody>\n    <tr>\n      <th>0</th>\n      <td>78428548</td>\n      <td>6400</td>\n      <td>6400</td>\n      <td>6400.0</td>\n      <td>36</td>\n      <td>0.1367</td>\n      <td>217.720001</td>\n      <td>C</td>\n      <td>C3</td>\n      <td>Web Support Analist</td>\n      <td>...</td>\n      <td>NaT</td>\n      <td>NaT</td>\n      <td>-1</td>\n      <td>-1</td>\n      <td>NaN</td>\n      <td>-1.0</td>\n      <td>-1.0</td>\n      <td>-1.0</td>\n      <td>N</td>\n      <td>0.0</td>\n    </tr>\n    <tr>\n      <th>1</th>\n      <td>136264733</td>\n      <td>35000</td>\n      <td>35000</td>\n      <td>35000.0</td>\n      <td>36</td>\n      <td>0.1691</td>\n      <td>1246.280029</td>\n      <td>C</td>\n      <td>C5</td>\n      <td>Vice President</td>\n      <td>...</td>\n      <td>NaT</td>\n      <td>NaT</td>\n      <td>-1</td>\n      <td>-1</td>\n      <td>NaN</td>\n      <td>-1.0</td>\n      <td>-1.0</td>\n      <td>-1.0</td>\n      <td>N</td>\n      <td>1.0</td>\n    </tr>\n    <tr>\n      <th>2</th>\n      <td>141294472</td>\n      <td>10000</td>\n      <td>10000</td>\n      <td>10000.0</td>\n      <td>36</td>\n      <td>0.1797</td>\n      <td>361.380005</td>\n      <td>D</td>\n      <td>D1</td>\n      <td>Dispatcher 3</td>\n      <td>...</td>\n      <td>NaT</td>\n      <td>NaT</td>\n      <td>-1</td>\n      <td>-1</td>\n      <td>NaN</td>\n      <td>-1.0</td>\n      <td>-1.0</td>\n      <td>-1.0</td>\n      <td>N</td>\n      <td>0.0</td>\n    </tr>\n    <tr>\n      <th>3</th>\n      <td>95218480</td>\n      <td>35000</td>\n      <td>35000</td>\n      <td>35000.0</td>\n      <td>36</td>\n      <td>0.1049</td>\n      <td>1137.430054</td>\n      <td>B</td>\n      <td>B2</td>\n      <td>Emergency Physician</td>\n      <td>...</td>\n      <td>NaT</td>\n      <td>NaT</td>\n      <td>-1</td>\n      <td>-1</td>\n      <td>NaN</td>\n      <td>-1.0</td>\n      <td>-1.0</td>\n      <td>-1.0</td>\n      <td>N</td>\n      <td>0.0</td>\n    </tr>\n    <tr>\n      <th>4</th>\n      <td>112117439</td>\n      <td>3500</td>\n      <td>3500</td>\n      <td>3500.0</td>\n      <td>36</td>\n      <td>0.1091</td>\n      <td>114.440002</td>\n      <td>B</td>\n      <td>B4</td>\n      <td>Grocery</td>\n      <td>...</td>\n      <td>NaT</td>\n      <td>NaT</td>\n      <td>-1</td>\n      <td>-1</td>\n      <td>NaN</td>\n      <td>-1.0</td>\n      <td>-1.0</td>\n      <td>-1.0</td>\n      <td>N</td>\n      <td>0.0</td>\n    </tr>\n  </tbody>\n</table>\n<p>5 rows × 142 columns</p>\n</div>"
     },
     "execution_count": 33,
     "metadata": {},
     "output_type": "execute_result"
    }
   ],
   "source": [
    "# Carregando o dataset raw (puro) na variavel df_raw, precisa instalar a lib pyarrow para ler um arquivo .feather\n",
    "df_raw = pd.read_feather('data/lending_club_smaller_sample.feather')\n",
    "df_raw = df_raw.rename(columns={'bad_payer': 'default'})\n",
    "df_raw.head()"
   ],
   "metadata": {
    "collapsed": false,
    "ExecuteTime": {
     "start_time": "2023-04-06T19:33:40.603872Z",
     "end_time": "2023-04-06T19:33:47.399426Z"
    }
   }
  },
  {
   "cell_type": "markdown",
   "source": [
    "## Distribuição da variável de interesse"
   ],
   "metadata": {
    "collapsed": false
   }
  },
  {
   "cell_type": "code",
   "execution_count": 34,
   "outputs": [
    {
     "name": "stdout",
     "output_type": "stream",
     "text": [
      "0.0    80.5115\n",
      "1.0    19.4885\n",
      "Name: default, dtype: float64\n",
      "0.0    161023\n",
      "1.0     38977\n",
      "Name: default, dtype: int64\n"
     ]
    }
   ],
   "source": [
    "# Pritando as proporcoes da classe (inadimplente)\n",
    "print(df_raw.default.value_counts(normalize=True) * 100)\n",
    "print(df_raw.default.value_counts())"
   ],
   "metadata": {
    "collapsed": false,
    "ExecuteTime": {
     "start_time": "2023-04-06T19:35:06.080598Z",
     "end_time": "2023-04-06T19:35:06.128033Z"
    }
   }
  },
  {
   "cell_type": "code",
   "execution_count": 7,
   "outputs": [
    {
     "data": {
      "text/plain": "<Figure size 640x480 with 1 Axes>",
      "image/png": "[encoded data removed]"
     },
     "metadata": {},
     "output_type": "display_data"
    }
   ],
   "source": [
    "df_gp = df_raw.groupby('issue_d')['id'].count().reset_index()\n",
    "df_gp\n",
    "ax = sns.lineplot(df_gp, x='issue_d', y='id', color=primary_color)\n",
    "plt.xlabel(\"\")\n",
    "plt.ylabel(\"total loans\")\n",
    "sns.despine()\n",
    "\n",
    "plt.show()"
   ],
   "metadata": {
    "collapsed": false,
    "ExecuteTime": {
     "start_time": "2023-04-06T18:52:16.680611Z",
     "end_time": "2023-04-06T18:52:17.674779Z"
    }
   }
  },
  {
   "cell_type": "code",
   "execution_count": 35,
   "outputs": [
    {
     "name": "stdout",
     "output_type": "stream",
     "text": [
      "default_ratio: 0.194885\n"
     ]
    }
   ],
   "source": [
    "default_ratio = df_raw.default.value_counts(normalize=True)[1]\n",
    "print('default_ratio:', default_ratio)"
   ],
   "metadata": {
    "collapsed": false,
    "ExecuteTime": {
     "start_time": "2023-04-06T19:35:44.834561Z",
     "end_time": "2023-04-06T19:35:44.901686Z"
    }
   }
  },
  {
   "cell_type": "markdown",
   "source": [
    "## Organizando as features\n",
    "Removendo as colunas sem uso, usar apenas variáveis presentes no momento do credit application"
   ],
   "metadata": {
    "collapsed": false
   }
  },
  {
   "cell_type": "code",
   "execution_count": 9,
   "outputs": [
    {
     "name": "stdout",
     "output_type": "stream",
     "text": [
      " \n",
      "Colunas dropadas:  ['funded_amnt', 'funded_amnt_inv', 'out_prncp', 'out_prncp_inv', 'last_fico_range_low', 'last_fico_range_high', 'total_pymnt', 'total_pymnt_inv', 'total_rec_prncp', 'total_rec_int', 'total_rec_late_fee', 'recoveries', 'collection_recovery_fee', 'tot_coll_amt', 'last_pymnt_amnt', 'total_il_high_credit_limit', 'hardship_flag', 'installment', 'revol_util', 'collections_12_mths_ex_med', 'last_credit_pull_d', 'next_pymnt_d', 'last_pymnt_d', 'collection_recovery_fee', 'hardship_flag', 'hardship_type', 'hardship_reason', 'hardship_status', 'deferral_term', 'hardship_amount', 'hardship_start_date', 'hardship_end_date', 'payment_plan_start_date', 'hardship_length', 'hardship_dpd', 'hardship_loan_status', 'orig_projected_additional_accrued_interest', 'hardship_payoff_balance_amount', 'hardship_last_payment_amount', 'debt_settlement_flag', 'id', 'initial_list_status', 'title', 'purpose', 'url', 'pymnt_plan', 'loan_status', 'emp_title', 'issue_d', 'earliest_cr_line', 'last_pymnt_d', 'next_pymnt_d', 'last_credit_pull_d', 'sec_app_earliest_cr_line', 'hardship_start_date', 'hardship_end_date', 'payment_plan_start_date']\n",
      "Shape original,  (200000, 142)\n",
      "Shape atualizado,  (200000, 92)\n"
     ]
    }
   ],
   "source": [
    "df = df_raw.copy()\n",
    "# Lista de colunas com dados coletados após a concessão do crédito, ou seja, após o processo de aplicação (application)\n",
    "after_grant_cols= ['funded_amnt', 'funded_amnt_inv', 'out_prncp', 'out_prncp_inv', 'last_fico_range_low',\n",
    "                   'last_fico_range_high','total_pymnt', 'total_pymnt_inv', 'total_rec_prncp', 'total_rec_int',\n",
    "                   'total_rec_late_fee', 'recoveries', 'collection_recovery_fee','tot_coll_amt','last_pymnt_amnt',\n",
    "                   'total_il_high_credit_limit', 'hardship_flag', 'installment',\n",
    "                   'revol_util','collections_12_mths_ex_med',\n",
    "                   #duvida\n",
    "                   'last_credit_pull_d', 'next_pymnt_d', 'last_pymnt_d', 'collection_recovery_fee'\n",
    "                   ]\n",
    "\n",
    "# Removendo as variáveis relacionadas ao plano de dificuldades (covid)\n",
    "# https://structuredfinance.org/resource-details/helping-consumers-bridge-financial-hardship/\n",
    "hardship_cols = ['hardship_flag','hardship_type','hardship_reason','hardship_status','deferral_term',\n",
    "                 'hardship_amount','hardship_start_date','hardship_end_date','payment_plan_start_date',\n",
    "                 'hardship_length','hardship_dpd','hardship_loan_status','orig_projected_additional_accrued_interest',\n",
    "                 'hardship_payoff_balance_amount','hardship_last_payment_amount','debt_settlement_flag']\n",
    "\n",
    "useless_cols = ['id', 'initial_list_status', 'title', 'purpose', 'url', 'pymnt_plan', 'loan_status', 'emp_title']\n",
    "\n",
    "date_cols = list(df.select_dtypes(include='datetime').columns)\n",
    "\n",
    "# Colunas a serem dropadas\n",
    "cols_to_drop = after_grant_cols + hardship_cols + useless_cols + date_cols\n",
    "\n",
    "# feature columns\n",
    "feature_cols = df_raw.drop(columns=cols_to_drop + ['default']).columns\n",
    "\n",
    "# Removendo as colunas do dataset\n",
    "df = df_raw[feature_cols].copy()\n",
    "\n",
    "print(' ')\n",
    "print('Colunas dropadas: ', cols_to_drop)\n",
    "print('Shape original, ', df_raw.shape)\n",
    "print('Shape atualizado, ', df.shape)"
   ],
   "metadata": {
    "collapsed": false,
    "ExecuteTime": {
     "start_time": "2023-04-06T18:52:22.662125Z",
     "end_time": "2023-04-06T18:52:23.052174Z"
    }
   }
  },
  {
   "cell_type": "markdown",
   "source": [
    "## Splitando o dataset temporalmente (out-of-time)"
   ],
   "metadata": {
    "collapsed": false
   }
  },
  {
   "cell_type": "code",
   "execution_count": 10,
   "outputs": [],
   "source": [
    "train_df, test_df = np.split(df_raw.sort_values(by='id'), [int(.80 *len(df_raw))])\n",
    "train_df['set_type'] = 'train'\n",
    "test_df['set_type'] = 'test'"
   ],
   "metadata": {
    "collapsed": false,
    "ExecuteTime": {
     "start_time": "2023-04-06T18:52:25.583828Z",
     "end_time": "2023-04-06T18:52:26.770530Z"
    }
   }
  },
  {
   "cell_type": "code",
   "execution_count": 11,
   "outputs": [
    {
     "name": "stdout",
     "output_type": "stream",
     "text": [
      "Train default ratio\n",
      "0.0    81.17375\n",
      "1.0    18.82625\n",
      "Name: default, dtype: float64\n",
      "0.0    129878\n",
      "1.0     30122\n",
      "Name: default, dtype: int64\n",
      "\n",
      "Test default ratio\n",
      "0.0    77.8625\n",
      "1.0    22.1375\n",
      "Name: default, dtype: float64\n",
      "0.0    31145\n",
      "1.0     8855\n",
      "Name: default, dtype: int64\n"
     ]
    }
   ],
   "source": [
    "print('Train default ratio')\n",
    "print(train_df.default.value_counts(normalize=True) * 100)\n",
    "print(train_df.default.value_counts())\n",
    "\n",
    "print()\n",
    "print('Test default ratio')\n",
    "print(test_df.default.value_counts(normalize=True) * 100)\n",
    "print(test_df.default.value_counts())"
   ],
   "metadata": {
    "collapsed": false,
    "ExecuteTime": {
     "start_time": "2023-04-06T18:52:29.733900Z",
     "end_time": "2023-04-06T18:52:29.785551Z"
    }
   }
  },
  {
   "cell_type": "code",
   "execution_count": 12,
   "outputs": [
    {
     "data": {
      "text/plain": "<Figure size 600x500 with 1 Axes>",
      "image/png": "[encoded data removed]"
     },
     "metadata": {},
     "output_type": "display_data"
    }
   ],
   "source": [
    "df_gp = pd.concat([train_df, test_df])\n",
    "df_gp = df_gp.groupby(['issue_d', 'set_type'])['id'].count().reset_index()\n",
    "\n",
    "fig, ax = plt.subplots(figsize=(6, 5))\n",
    "sns.lineplot(df_gp, x='issue_d', y='id', hue='set_type', ax=ax, palette=['gray', primary_color])\n",
    "\n",
    "plt.xlabel(\"\")\n",
    "plt.ylabel(\"total loans\")\n",
    "sns.despine()\n",
    "plt.show()"
   ],
   "metadata": {
    "collapsed": false,
    "ExecuteTime": {
     "start_time": "2023-04-06T18:52:32.075929Z",
     "end_time": "2023-04-06T18:52:36.740886Z"
    }
   }
  },
  {
   "cell_type": "markdown",
   "source": [
    "Organizando as features por tipo"
   ],
   "metadata": {
    "collapsed": false
   }
  },
  {
   "cell_type": "code",
   "execution_count": 37,
   "outputs": [
    {
     "name": "stdout",
     "output_type": "stream",
     "text": [
      "Features categoricas: \n",
      " ['grade', 'sub_grade', 'emp_length', 'home_ownership', 'verification_status', 'zip_code', 'addr_state', 'application_type', 'verification_status_joint']\n",
      "\n",
      "Features numéricas: \n",
      " ['loan_amnt', 'term', 'int_rate', 'annual_inc', 'dti', 'delinq_2yrs', 'fico_range_low', 'fico_range_high', 'inq_last_6mths', 'mths_since_last_delinq', 'mths_since_last_record', 'open_acc', 'pub_rec', 'revol_bal', 'total_acc', 'mths_since_last_major_derog', 'policy_code', 'annual_inc_joint', 'dti_joint', 'acc_now_delinq', 'tot_cur_bal', 'open_acc_6m', 'open_act_il', 'open_il_12m', 'open_il_24m', 'mths_since_rcnt_il', 'total_bal_il', 'il_util', 'open_rv_12m', 'open_rv_24m', 'max_bal_bc', 'all_util', 'total_rev_hi_lim', 'inq_fi', 'total_cu_tl', 'inq_last_12m', 'acc_open_past_24mths', 'avg_cur_bal', 'bc_open_to_buy', 'bc_util', 'chargeoff_within_12_mths', 'delinq_amnt', 'mo_sin_old_il_acct', 'mo_sin_old_rev_tl_op', 'mo_sin_rcnt_rev_tl_op', 'mo_sin_rcnt_tl', 'mort_acc', 'mths_since_recent_bc', 'mths_since_recent_bc_dlq', 'mths_since_recent_inq', 'mths_since_recent_revol_delinq', 'num_accts_ever_120_pd', 'num_actv_bc_tl', 'num_actv_rev_tl', 'num_bc_sats', 'num_bc_tl', 'num_il_tl', 'num_op_rev_tl', 'num_rev_accts', 'num_rev_tl_bal_gt_0', 'num_sats', 'num_tl_120dpd_2m', 'num_tl_30dpd', 'num_tl_90g_dpd_24m', 'num_tl_op_past_12m', 'pct_tl_nvr_dlq', 'percent_bc_gt_75', 'pub_rec_bankruptcies', 'tax_liens', 'tot_hi_cred_lim', 'total_bal_ex_mort', 'total_bc_limit', 'revol_bal_joint', 'sec_app_fico_range_low', 'sec_app_fico_range_high', 'sec_app_inq_last_6mths', 'sec_app_mort_acc', 'sec_app_open_acc', 'sec_app_revol_util', 'sec_app_open_act_il', 'sec_app_num_rev_accts', 'sec_app_chargeoff_within_12_mths', 'sec_app_collections_12_mths_ex_med']\n"
     ]
    }
   ],
   "source": [
    "# Definindo a variável target\n",
    "target = 'default'\n",
    "\n",
    "# Selecionado todas as variáveis do tipo category do dataset\n",
    "cat_features = list(train_df[feature_cols].select_dtypes(include='category').columns)\n",
    "print('Features categoricas: \\n', cat_features)\n",
    "print()\n",
    "\n",
    "# Selecionado todas as variáveis do tipo não category (todas as númericas) do nosso dataset\n",
    "num_features = list(train_df[feature_cols].select_dtypes(exclude='category').columns)\n",
    "print('Features numéricas: \\n', num_features)"
   ],
   "metadata": {
    "collapsed": false,
    "ExecuteTime": {
     "start_time": "2023-04-06T19:41:47.584980Z",
     "end_time": "2023-04-06T19:41:47.755745Z"
    }
   }
  },
  {
   "cell_type": "markdown",
   "source": [
    "## Treinando o modelo"
   ],
   "metadata": {
    "collapsed": false
   }
  },
  {
   "cell_type": "code",
   "execution_count": 38,
   "outputs": [
    {
     "name": "stdout",
     "output_type": "stream",
     "text": [
      "Shape X_train (160000, 92)\n",
      "Shape X_test (40000, 92)\n"
     ]
    }
   ],
   "source": [
    "# Vetor de features\n",
    "X_train = train_df[feature_cols].copy()\n",
    "X_test = test_df[feature_cols].copy()\n",
    "\n",
    "# Transformando todas as variaveis númericas para float, necessário para rodar no lightgbm\n",
    "X_train[num_features] = X_train[num_features].astype('float')\n",
    "X_test[num_features] = X_test[num_features].astype('float')\n",
    "\n",
    "# Variável target\n",
    "y_train = train_df[target]\n",
    "y_test = test_df[target]\n",
    "\n",
    "print('Shape X_train', X_train.shape)\n",
    "print('Shape X_test', X_test.shape)"
   ],
   "metadata": {
    "collapsed": false,
    "ExecuteTime": {
     "start_time": "2023-04-06T19:41:47.757347Z",
     "end_time": "2023-04-06T19:41:48.790397Z"
    }
   }
  },
  {
   "cell_type": "code",
   "execution_count": 36,
   "outputs": [
    {
     "data": {
      "text/plain": "LGBMClassifier()",
      "text/html": "<style>#sk-container-id-2 {color: black;background-color: white;}#sk-container-id-2 pre{padding: 0;}#sk-container-id-2 div.sk-toggleable {background-color: white;}#sk-container-id-2 label.sk-toggleable__label {cursor: pointer;display: block;width: 100%;margin-bottom: 0;padding: 0.3em;box-sizing: border-box;text-align: center;}#sk-container-id-2 label.sk-toggleable__label-arrow:before {content: \"▸\";float: left;margin-right: 0.25em;color: #696969;}#sk-container-id-2 label.sk-toggleable__label-arrow:hover:before {color: black;}#sk-container-id-2 div.sk-estimator:hover label.sk-toggleable__label-arrow:before {color: black;}#sk-container-id-2 div.sk-toggleable__content {max-height: 0;max-width: 0;overflow: hidden;text-align: left;background-color: #f0f8ff;}#sk-container-id-2 div.sk-toggleable__content pre {margin: 0.2em;color: black;border-radius: 0.25em;background-color: #f0f8ff;}#sk-container-id-2 input.sk-toggleable__control:checked~div.sk-toggleable__content {max-height: 200px;max-width: 100%;overflow: auto;}#sk-container-id-2 input.sk-toggleable__control:checked~label.sk-toggleable__label-arrow:before {content: \"▾\";}#sk-container-id-2 div.sk-estimator input.sk-toggleable__control:checked~label.sk-toggleable__label {background-color: #d4ebff;}#sk-container-id-2 div.sk-label input.sk-toggleable__control:checked~label.sk-toggleable__label {background-color: #d4ebff;}#sk-container-id-2 input.sk-hidden--visually {border: 0;clip: rect(1px 1px 1px 1px);clip: rect(1px, 1px, 1px, 1px);height: 1px;margin: -1px;overflow: hidden;padding: 0;position: absolute;width: 1px;}#sk-container-id-2 div.sk-estimator {font-family: monospace;background-color: #f0f8ff;border: 1px dotted black;border-radius: 0.25em;box-sizing: border-box;margin-bottom: 0.5em;}#sk-container-id-2 div.sk-estimator:hover {background-color: #d4ebff;}#sk-container-id-2 div.sk-parallel-item::after {content: \"\";width: 100%;border-bottom: 1px solid gray;flex-grow: 1;}#sk-container-id-2 div.sk-label:hover label.sk-toggleable__label {background-color: #d4ebff;}#sk-container-id-2 div.sk-serial::before {content: \"\";position: absolute;border-left: 1px solid gray;box-sizing: border-box;top: 0;bottom: 0;left: 50%;z-index: 0;}#sk-container-id-2 div.sk-serial {display: flex;flex-direction: column;align-items: center;background-color: white;padding-right: 0.2em;padding-left: 0.2em;position: relative;}#sk-container-id-2 div.sk-item {position: relative;z-index: 1;}#sk-container-id-2 div.sk-parallel {display: flex;align-items: stretch;justify-content: center;background-color: white;position: relative;}#sk-container-id-2 div.sk-item::before, #sk-container-id-2 div.sk-parallel-item::before {content: \"\";position: absolute;border-left: 1px solid gray;box-sizing: border-box;top: 0;bottom: 0;left: 50%;z-index: -1;}#sk-container-id-2 div.sk-parallel-item {display: flex;flex-direction: column;z-index: 1;position: relative;background-color: white;}#sk-container-id-2 div.sk-parallel-item:first-child::after {align-self: flex-end;width: 50%;}#sk-container-id-2 div.sk-parallel-item:last-child::after {align-self: flex-start;width: 50%;}#sk-container-id-2 div.sk-parallel-item:only-child::after {width: 0;}#sk-container-id-2 div.sk-dashed-wrapped {border: 1px dashed gray;margin: 0 0.4em 0.5em 0.4em;box-sizing: border-box;padding-bottom: 0.4em;background-color: white;}#sk-container-id-2 div.sk-label label {font-family: monospace;font-weight: bold;display: inline-block;line-height: 1.2em;}#sk-container-id-2 div.sk-label-container {text-align: center;}#sk-container-id-2 div.sk-container {/* jupyter's `normalize.less` sets `[hidden] { display: none; }` but bootstrap.min.css set `[hidden] { display: none !important; }` so we also need the `!important` here to be able to override the default hidden behavior on the sphinx rendered scikit-learn.org. See: https://github.com/scikit-learn/scikit-learn/issues/21755 */display: inline-block !important;position: relative;}#sk-container-id-2 div.sk-text-repr-fallback {display: none;}</style><div id=\"sk-container-id-2\" class=\"sk-top-container\"><div class=\"sk-text-repr-fallback\"><pre>LGBMClassifier()</pre><b>In a Jupyter environment, please rerun this cell to show the HTML representation or trust the notebook. <br />On GitHub, the HTML representation is unable to render, please try loading this page with nbviewer.org.</b></div><div class=\"sk-container\" hidden><div class=\"sk-item\"><div class=\"sk-estimator sk-toggleable\"><input class=\"sk-toggleable__control sk-hidden--visually\" id=\"sk-estimator-id-2\" type=\"checkbox\" checked><label for=\"sk-estimator-id-2\" class=\"sk-toggleable__label sk-toggleable__label-arrow\">LGBMClassifier</label><div class=\"sk-toggleable__content\"><pre>LGBMClassifier()</pre></div></div></div></div></div>"
     },
     "execution_count": 36,
     "metadata": {},
     "output_type": "execute_result"
    }
   ],
   "source": [
    "# Modelo padrão\n",
    "model_baseline = LGBMClassifier()\n",
    "model_baseline.fit(X_train, y_train)"
   ],
   "metadata": {
    "collapsed": false,
    "ExecuteTime": {
     "start_time": "2023-04-06T19:41:28.335315Z",
     "end_time": "2023-04-06T19:41:47.560714Z"
    }
   }
  },
  {
   "cell_type": "markdown",
   "source": [
    "Verificando as predições do modelo baseline"
   ],
   "metadata": {
    "collapsed": false
   }
  },
  {
   "cell_type": "code",
   "execution_count": 17,
   "outputs": [
    {
     "data": {
      "text/plain": "<Figure size 600x500 with 1 Axes>",
      "image/png": "[encoded data removed]"
     },
     "metadata": {},
     "output_type": "display_data"
    }
   ],
   "source": [
    "# Realizando a previsão das probabilidades do modelo_baseline\n",
    "y_score = model_baseline.predict_proba(X_test)[:,1]\n",
    "\n",
    "sns.set_context(rc = {'patch.linewidth': 0.0})\n",
    "# Função para plotar o histograma das probabilidades preditas\n",
    "def plot_probabilities_hist(y_score, y_test):\n",
    "    y_result = pd.DataFrame({\n",
    "        'probability':  y_score,\n",
    "        'true_class': y_test,\n",
    "    })\n",
    "    fig, ax = plt.subplots(figsize=(6, 5))\n",
    "    negative = y_result.loc[y_result.true_class == 0, 'probability']\n",
    "    positive = y_result.loc[y_result.true_class == 1, 'probability']\n",
    "    sns.histplot(negative, stat='density', color='gray', ax=ax, label='No default')\n",
    "    sns.histplot(positive, stat='density', color=primary_color, ax=ax, alpha=0.7, label='Is default')\n",
    "    _ = plt.legend({\"No default\": negative, \"Is default\": positive}, fontsize=\"large\")\n",
    "    sns.despine()\n",
    "    plt.show()\n",
    "\n",
    "plot_probabilities_hist(y_score, y_test)"
   ],
   "metadata": {
    "collapsed": false,
    "ExecuteTime": {
     "start_time": "2023-04-06T18:53:40.063123Z",
     "end_time": "2023-04-06T18:53:41.794193Z"
    }
   }
  },
  {
   "cell_type": "markdown",
   "source": [
    "Verificando o desempenho do modelo"
   ],
   "metadata": {
    "collapsed": false
   }
  },
  {
   "cell_type": "code",
   "execution_count": 39,
   "outputs": [
    {
     "name": "stdout",
     "output_type": "stream",
     "text": [
      "Avg. Precision do modelo baseline 0.38261694558668463\n",
      "A proporção da classe de interesse (default=1), o baseline da curva do PR é:  0.194885\n"
     ]
    },
    {
     "data": {
      "text/plain": "<Figure size 640x480 with 1 Axes>",
      "image/png": "[encoded data removed]"
     },
     "metadata": {},
     "output_type": "display_data"
    }
   ],
   "source": [
    "# Verificando o valor do Avg. Preicision https://scikit-learn.org/stable/modules/generated/sklearn.metrics.average_precision_score.html\n",
    "avg_precision = average_precision_score(y_test, y_score)\n",
    "print('Avg. Precision do modelo baseline', average_precision_score(y_test, y_score))\n",
    "print('A proporção da classe de interesse (default=1), o baseline da curva do PR é: ', default_ratio)\n",
    "\n",
    "# Computando o precision e o recall para diferentes thresholds\n",
    "precision,recall,_ = precision_recall_curve(y_test, y_score)\n",
    "\n",
    "#Plotando a curva do precision vs recall\n",
    "disp = PrecisionRecallDisplay(precision=precision, recall=recall)\n",
    "disp.plot()\n",
    "title = 'Curva do Precision-Recall'\n",
    "plt.suptitle(title, y=0.98, fontsize=12)\n",
    "plt.axhline(default_ratio, linestyle='--', color='white', alpha=0.6)\n",
    "sns.despine()\n",
    "plt.show()"
   ],
   "metadata": {
    "collapsed": false,
    "ExecuteTime": {
     "start_time": "2023-04-06T19:43:02.916878Z",
     "end_time": "2023-04-06T19:43:03.660348Z"
    }
   }
  },
  {
   "cell_type": "markdown",
   "source": [
    "## Usando o dataset de teste para calibrar a PD e criar as métricas de PD, EAD, LGD"
   ],
   "metadata": {
    "collapsed": false
   }
  },
  {
   "cell_type": "code",
   "execution_count": 20,
   "outputs": [],
   "source": [
    "# Criando a coluna y_score com as probabilidades preditas pelo modelo no dataset de teste\n",
    "test_df['y_score'] = model_baseline.predict_proba(X_test)[:,1]"
   ],
   "metadata": {
    "collapsed": false,
    "ExecuteTime": {
     "start_time": "2023-04-06T18:54:34.648762Z",
     "end_time": "2023-04-06T18:54:35.020659Z"
    }
   }
  },
  {
   "cell_type": "markdown",
   "source": [
    "Verificando alguns valores importantes"
   ],
   "metadata": {
    "collapsed": false
   }
  },
  {
   "cell_type": "code",
   "execution_count": 21,
   "outputs": [
    {
     "data": {
      "text/plain": "        last_pymnt_amnt  mths_since_last_delinq  total_pymnt_inv  total_pymnt  \\\n52660        476.640015                      28      6648.120117  6648.120117   \n136500       284.779999                      -1      5298.709961  5298.709961   \n15933        430.480011                      -1      4565.169922  4565.169922   \n162294       298.820007                      30      2976.810059  2976.810059   \n151137       185.820007                      71       863.190002   863.190002   \n...                 ...                     ...              ...          ...   \n135277         0.000000                      -1         0.000000     0.000000   \n20262          0.000000                      -1         0.000000     0.000000   \n7922         280.209991                      -1       550.969971   550.969971   \n193983       720.020020                      -1      2134.389893  2134.389893   \n116268       485.350006                      12      1447.560059  1447.560059   \n\n         recoveries  installment  int_rate  loan_amnt  funded_amnt  \\\n52660      0.000000   476.640015    0.3084      14500        14500   \n136500  1334.260010   284.779999    0.1806      11200        11200   \n15933   2002.189941   430.480011    0.2388      15000        15000   \n162294     0.000000   298.820007    0.1709      12000        12000   \n151137   682.929993   185.820007    0.2000       5000         5000   \n...             ...          ...       ...        ...          ...   \n135277     0.000000   778.140015    0.1033      24000        24000   \n20262      0.000000   733.969971    0.1308      32200        32200   \n7922       0.000000   280.209991    0.0756       9000         9000   \n193983     0.000000   720.020020    0.1540      30000        30000   \n116268     0.000000   485.350006    0.1019      15000        15000   \n\n        funded_amnt_inv  term  total_rec_prncp  total_rec_int  \n52660           14500.0    60      1721.010010    4927.109863  \n136500          11200.0    60      1795.609985    2168.840088  \n15933           15000.0    60       832.340027    1730.640015  \n162294          12000.0    60      1364.369995    1612.439941  \n151137           5000.0    36       102.489998      77.769997  \n...                 ...   ...              ...            ...  \n135277          24000.0    36         0.000000       0.000000  \n20262           32200.0    60         0.000000       0.000000  \n7922             9000.0    36       448.429993     102.540001  \n193983          30000.0    60       912.690002    1221.699951  \n116268          15000.0    36      1052.839966     394.720001  \n\n[8855 rows x 13 columns]",
      "text/html": "<div>\n<style scoped>\n    .dataframe tbody tr th:only-of-type {\n        vertical-align: middle;\n    }\n\n    .dataframe tbody tr th {\n        vertical-align: top;\n    }\n\n    .dataframe thead th {\n        text-align: right;\n    }\n</style>\n<table border=\"1\" class=\"dataframe\">\n  <thead>\n    <tr style=\"text-align: right;\">\n      <th></th>\n      <th>last_pymnt_amnt</th>\n      <th>mths_since_last_delinq</th>\n      <th>total_pymnt_inv</th>\n      <th>total_pymnt</th>\n      <th>recoveries</th>\n      <th>installment</th>\n      <th>int_rate</th>\n      <th>loan_amnt</th>\n      <th>funded_amnt</th>\n      <th>funded_amnt_inv</th>\n      <th>term</th>\n      <th>total_rec_prncp</th>\n      <th>total_rec_int</th>\n    </tr>\n  </thead>\n  <tbody>\n    <tr>\n      <th>52660</th>\n      <td>476.640015</td>\n      <td>28</td>\n      <td>6648.120117</td>\n      <td>6648.120117</td>\n      <td>0.000000</td>\n      <td>476.640015</td>\n      <td>0.3084</td>\n      <td>14500</td>\n      <td>14500</td>\n      <td>14500.0</td>\n      <td>60</td>\n      <td>1721.010010</td>\n      <td>4927.109863</td>\n    </tr>\n    <tr>\n      <th>136500</th>\n      <td>284.779999</td>\n      <td>-1</td>\n      <td>5298.709961</td>\n      <td>5298.709961</td>\n      <td>1334.260010</td>\n      <td>284.779999</td>\n      <td>0.1806</td>\n      <td>11200</td>\n      <td>11200</td>\n      <td>11200.0</td>\n      <td>60</td>\n      <td>1795.609985</td>\n      <td>2168.840088</td>\n    </tr>\n    <tr>\n      <th>15933</th>\n      <td>430.480011</td>\n      <td>-1</td>\n      <td>4565.169922</td>\n      <td>4565.169922</td>\n      <td>2002.189941</td>\n      <td>430.480011</td>\n      <td>0.2388</td>\n      <td>15000</td>\n      <td>15000</td>\n      <td>15000.0</td>\n      <td>60</td>\n      <td>832.340027</td>\n      <td>1730.640015</td>\n    </tr>\n    <tr>\n      <th>162294</th>\n      <td>298.820007</td>\n      <td>30</td>\n      <td>2976.810059</td>\n      <td>2976.810059</td>\n      <td>0.000000</td>\n      <td>298.820007</td>\n      <td>0.1709</td>\n      <td>12000</td>\n      <td>12000</td>\n      <td>12000.0</td>\n      <td>60</td>\n      <td>1364.369995</td>\n      <td>1612.439941</td>\n    </tr>\n    <tr>\n      <th>151137</th>\n      <td>185.820007</td>\n      <td>71</td>\n      <td>863.190002</td>\n      <td>863.190002</td>\n      <td>682.929993</td>\n      <td>185.820007</td>\n      <td>0.2000</td>\n      <td>5000</td>\n      <td>5000</td>\n      <td>5000.0</td>\n      <td>36</td>\n      <td>102.489998</td>\n      <td>77.769997</td>\n    </tr>\n    <tr>\n      <th>...</th>\n      <td>...</td>\n      <td>...</td>\n      <td>...</td>\n      <td>...</td>\n      <td>...</td>\n      <td>...</td>\n      <td>...</td>\n      <td>...</td>\n      <td>...</td>\n      <td>...</td>\n      <td>...</td>\n      <td>...</td>\n      <td>...</td>\n    </tr>\n    <tr>\n      <th>135277</th>\n      <td>0.000000</td>\n      <td>-1</td>\n      <td>0.000000</td>\n      <td>0.000000</td>\n      <td>0.000000</td>\n      <td>778.140015</td>\n      <td>0.1033</td>\n      <td>24000</td>\n      <td>24000</td>\n      <td>24000.0</td>\n      <td>36</td>\n      <td>0.000000</td>\n      <td>0.000000</td>\n    </tr>\n    <tr>\n      <th>20262</th>\n      <td>0.000000</td>\n      <td>-1</td>\n      <td>0.000000</td>\n      <td>0.000000</td>\n      <td>0.000000</td>\n      <td>733.969971</td>\n      <td>0.1308</td>\n      <td>32200</td>\n      <td>32200</td>\n      <td>32200.0</td>\n      <td>60</td>\n      <td>0.000000</td>\n      <td>0.000000</td>\n    </tr>\n    <tr>\n      <th>7922</th>\n      <td>280.209991</td>\n      <td>-1</td>\n      <td>550.969971</td>\n      <td>550.969971</td>\n      <td>0.000000</td>\n      <td>280.209991</td>\n      <td>0.0756</td>\n      <td>9000</td>\n      <td>9000</td>\n      <td>9000.0</td>\n      <td>36</td>\n      <td>448.429993</td>\n      <td>102.540001</td>\n    </tr>\n    <tr>\n      <th>193983</th>\n      <td>720.020020</td>\n      <td>-1</td>\n      <td>2134.389893</td>\n      <td>2134.389893</td>\n      <td>0.000000</td>\n      <td>720.020020</td>\n      <td>0.1540</td>\n      <td>30000</td>\n      <td>30000</td>\n      <td>30000.0</td>\n      <td>60</td>\n      <td>912.690002</td>\n      <td>1221.699951</td>\n    </tr>\n    <tr>\n      <th>116268</th>\n      <td>485.350006</td>\n      <td>12</td>\n      <td>1447.560059</td>\n      <td>1447.560059</td>\n      <td>0.000000</td>\n      <td>485.350006</td>\n      <td>0.1019</td>\n      <td>15000</td>\n      <td>15000</td>\n      <td>15000.0</td>\n      <td>36</td>\n      <td>1052.839966</td>\n      <td>394.720001</td>\n    </tr>\n  </tbody>\n</table>\n<p>8855 rows × 13 columns</p>\n</div>"
     },
     "execution_count": 21,
     "metadata": {},
     "output_type": "execute_result"
    }
   ],
   "source": [
    "test_df[test_df.default == 1][['last_pymnt_amnt', 'mths_since_last_delinq', 'total_pymnt_inv', 'total_pymnt', 'recoveries', 'installment', 'int_rate', 'loan_amnt', 'funded_amnt', 'funded_amnt_inv', 'term', 'total_rec_prncp', 'total_rec_int']]"
   ],
   "metadata": {
    "collapsed": false,
    "ExecuteTime": {
     "start_time": "2023-04-06T18:54:42.682950Z",
     "end_time": "2023-04-06T18:54:42.763177Z"
    }
   }
  },
  {
   "cell_type": "code",
   "execution_count": 22,
   "outputs": [
    {
     "data": {
      "text/plain": "        term     principal  installment  loan_amnt  total_pymnt   recoveries  \\\n52660     60  18971.800506   476.640015      14500  6648.120117     0.000000   \n136500    60  13222.719193   284.779999      11200  5298.709961  1334.260010   \n15933     60  18582.000732   430.480011      15000  4565.169922  2002.189941   \n162294    60  14050.799847   298.820007      12000  2976.810059     0.000000   \n151137    36   6000.000238   185.820007       5000   863.190002   682.929993   \n...      ...           ...          ...        ...          ...          ...   \n135277    36  26479.199409   778.140015      24000     0.000000     0.000000   \n20262     60  36411.760283   733.969971      32200     0.000000     0.000000   \n7922      36   9680.400252   280.209991       9000   550.969971     0.000000   \n193983    60  34620.001316   720.020020      30000  2134.389893     0.000000   \n116268    36  16528.499722   485.350006      15000  1447.560059     0.000000   \n\n                 ead  ead_ratio  lgd_ratio        losses  \n52660   12323.680389   0.649579        1.0  12323.680389  \n136500   7924.009232   0.599272   0.831618   9258.269241  \n15933   14016.830811   0.754323   0.857158  16019.020752  \n162294  11073.989788   0.788139        1.0  11073.989788  \n151137   5136.810236   0.856135   0.867052   5819.740229  \n...              ...        ...        ...           ...  \n135277  26479.199409        1.0        1.0  26479.199409  \n20262   36411.760283        1.0        1.0  36411.760283  \n7922     9129.430282   0.943084        1.0   9129.430282  \n193983  32485.611423   0.938348        1.0  32485.611423  \n116268  15080.939664    0.91242        1.0  15080.939664  \n\n[8855 rows x 10 columns]",
      "text/html": "<div>\n<style scoped>\n    .dataframe tbody tr th:only-of-type {\n        vertical-align: middle;\n    }\n\n    .dataframe tbody tr th {\n        vertical-align: top;\n    }\n\n    .dataframe thead th {\n        text-align: right;\n    }\n</style>\n<table border=\"1\" class=\"dataframe\">\n  <thead>\n    <tr style=\"text-align: right;\">\n      <th></th>\n      <th>term</th>\n      <th>principal</th>\n      <th>installment</th>\n      <th>loan_amnt</th>\n      <th>total_pymnt</th>\n      <th>recoveries</th>\n      <th>ead</th>\n      <th>ead_ratio</th>\n      <th>lgd_ratio</th>\n      <th>losses</th>\n    </tr>\n  </thead>\n  <tbody>\n    <tr>\n      <th>52660</th>\n      <td>60</td>\n      <td>18971.800506</td>\n      <td>476.640015</td>\n      <td>14500</td>\n      <td>6648.120117</td>\n      <td>0.000000</td>\n      <td>12323.680389</td>\n      <td>0.649579</td>\n      <td>1.0</td>\n      <td>12323.680389</td>\n    </tr>\n    <tr>\n      <th>136500</th>\n      <td>60</td>\n      <td>13222.719193</td>\n      <td>284.779999</td>\n      <td>11200</td>\n      <td>5298.709961</td>\n      <td>1334.260010</td>\n      <td>7924.009232</td>\n      <td>0.599272</td>\n      <td>0.831618</td>\n      <td>9258.269241</td>\n    </tr>\n    <tr>\n      <th>15933</th>\n      <td>60</td>\n      <td>18582.000732</td>\n      <td>430.480011</td>\n      <td>15000</td>\n      <td>4565.169922</td>\n      <td>2002.189941</td>\n      <td>14016.830811</td>\n      <td>0.754323</td>\n      <td>0.857158</td>\n      <td>16019.020752</td>\n    </tr>\n    <tr>\n      <th>162294</th>\n      <td>60</td>\n      <td>14050.799847</td>\n      <td>298.820007</td>\n      <td>12000</td>\n      <td>2976.810059</td>\n      <td>0.000000</td>\n      <td>11073.989788</td>\n      <td>0.788139</td>\n      <td>1.0</td>\n      <td>11073.989788</td>\n    </tr>\n    <tr>\n      <th>151137</th>\n      <td>36</td>\n      <td>6000.000238</td>\n      <td>185.820007</td>\n      <td>5000</td>\n      <td>863.190002</td>\n      <td>682.929993</td>\n      <td>5136.810236</td>\n      <td>0.856135</td>\n      <td>0.867052</td>\n      <td>5819.740229</td>\n    </tr>\n    <tr>\n      <th>...</th>\n      <td>...</td>\n      <td>...</td>\n      <td>...</td>\n      <td>...</td>\n      <td>...</td>\n      <td>...</td>\n      <td>...</td>\n      <td>...</td>\n      <td>...</td>\n      <td>...</td>\n    </tr>\n    <tr>\n      <th>135277</th>\n      <td>36</td>\n      <td>26479.199409</td>\n      <td>778.140015</td>\n      <td>24000</td>\n      <td>0.000000</td>\n      <td>0.000000</td>\n      <td>26479.199409</td>\n      <td>1.0</td>\n      <td>1.0</td>\n      <td>26479.199409</td>\n    </tr>\n    <tr>\n      <th>20262</th>\n      <td>60</td>\n      <td>36411.760283</td>\n      <td>733.969971</td>\n      <td>32200</td>\n      <td>0.000000</td>\n      <td>0.000000</td>\n      <td>36411.760283</td>\n      <td>1.0</td>\n      <td>1.0</td>\n      <td>36411.760283</td>\n    </tr>\n    <tr>\n      <th>7922</th>\n      <td>36</td>\n      <td>9680.400252</td>\n      <td>280.209991</td>\n      <td>9000</td>\n      <td>550.969971</td>\n      <td>0.000000</td>\n      <td>9129.430282</td>\n      <td>0.943084</td>\n      <td>1.0</td>\n      <td>9129.430282</td>\n    </tr>\n    <tr>\n      <th>193983</th>\n      <td>60</td>\n      <td>34620.001316</td>\n      <td>720.020020</td>\n      <td>30000</td>\n      <td>2134.389893</td>\n      <td>0.000000</td>\n      <td>32485.611423</td>\n      <td>0.938348</td>\n      <td>1.0</td>\n      <td>32485.611423</td>\n    </tr>\n    <tr>\n      <th>116268</th>\n      <td>36</td>\n      <td>16528.499722</td>\n      <td>485.350006</td>\n      <td>15000</td>\n      <td>1447.560059</td>\n      <td>0.000000</td>\n      <td>15080.939664</td>\n      <td>0.91242</td>\n      <td>1.0</td>\n      <td>15080.939664</td>\n    </tr>\n  </tbody>\n</table>\n<p>8855 rows × 10 columns</p>\n</div>"
     },
     "execution_count": 22,
     "metadata": {},
     "output_type": "execute_result"
    }
   ],
   "source": [
    "# Valor total a ser pago do emprestimo\n",
    "test_df['principal'] = test_df.loan_amnt * (1 + test_df.int_rate)\n",
    "\n",
    "# Exposure at default ratio, percentual do montante total devido em relação ao principal\n",
    "test_df['ead'] = test_df['principal'] - test_df.total_pymnt\n",
    "test_df['ead_ratio'] = test_df['ead']/test_df['principal']\n",
    "\n",
    "# Loss given default ratio, percentual de recuperação em relação total devido\n",
    "test_df['lgd_ratio'] = 1 - test_df['recoveries']/test_df['ead']\n",
    "\n",
    "# Perdas\n",
    "test_df['losses'] = test_df['principal'] - test_df.total_pymnt + test_df['recoveries']\n",
    "\n",
    "test_df[test_df.default == 1][['term', 'principal', 'installment', 'loan_amnt', 'total_pymnt', 'recoveries', 'ead', 'ead_ratio', 'lgd_ratio', 'losses']]"
   ],
   "metadata": {
    "collapsed": false,
    "ExecuteTime": {
     "start_time": "2023-04-06T18:55:40.199829Z",
     "end_time": "2023-04-06T18:55:40.421951Z"
    }
   }
  },
  {
   "cell_type": "code",
   "execution_count": 23,
   "outputs": [
    {
     "data": {
      "text/plain": "        term     principal  installment  loan_amnt   total_pymnt  recoveries  \\\n179918    60  23288.361752   583.840027      17825  22440.201172         0.0   \n188736    36   6903.000355   208.139999       6000   6385.481934         0.0   \n95232     36  16102.500558   465.570007      15000  16670.695312         0.0   \n106609    36   5032.799721   160.779999       4000   4421.113770         0.0   \n43092     36    5902.99964   180.919998       5000   5348.210938         0.0   \n...      ...           ...          ...        ...           ...         ...   \n141427    36   2280.400038    68.379997       2000   2015.719971         0.0   \n27263     60  11607.999802   243.610001      10000  10044.669922         0.0   \n74748     36  11388.299704   331.269989      10500  10502.469727         0.0   \n183312    36  11607.999802   351.970001      10000  10053.599609         0.0   \n162368    36   5540.500283   163.250000       5000   5018.020020         0.0   \n\n                ead  ead_ratio  lgd_ratio       losses  \n179918    848.16058    0.03642        1.0    848.16058  \n188736   517.518421    0.07497        1.0   517.518421  \n95232   -568.194755  -0.035286        1.0  -568.194755  \n106609   611.685951    0.12154        1.0   611.685951  \n43092    554.788702   0.093984        1.0   554.788702  \n...             ...        ...        ...          ...  \n141427   264.680067   0.116067        1.0   264.680067  \n27263    1563.32988   0.134677        1.0   1563.32988  \n74748    885.829977   0.077784        1.0   885.829977  \n183312  1554.400192   0.133908        1.0  1554.400192  \n162368   522.480264   0.094302        1.0   522.480264  \n\n[31145 rows x 10 columns]",
      "text/html": "<div>\n<style scoped>\n    .dataframe tbody tr th:only-of-type {\n        vertical-align: middle;\n    }\n\n    .dataframe tbody tr th {\n        vertical-align: top;\n    }\n\n    .dataframe thead th {\n        text-align: right;\n    }\n</style>\n<table border=\"1\" class=\"dataframe\">\n  <thead>\n    <tr style=\"text-align: right;\">\n      <th></th>\n      <th>term</th>\n      <th>principal</th>\n      <th>installment</th>\n      <th>loan_amnt</th>\n      <th>total_pymnt</th>\n      <th>recoveries</th>\n      <th>ead</th>\n      <th>ead_ratio</th>\n      <th>lgd_ratio</th>\n      <th>losses</th>\n    </tr>\n  </thead>\n  <tbody>\n    <tr>\n      <th>179918</th>\n      <td>60</td>\n      <td>23288.361752</td>\n      <td>583.840027</td>\n      <td>17825</td>\n      <td>22440.201172</td>\n      <td>0.0</td>\n      <td>848.16058</td>\n      <td>0.03642</td>\n      <td>1.0</td>\n      <td>848.16058</td>\n    </tr>\n    <tr>\n      <th>188736</th>\n      <td>36</td>\n      <td>6903.000355</td>\n      <td>208.139999</td>\n      <td>6000</td>\n      <td>6385.481934</td>\n      <td>0.0</td>\n      <td>517.518421</td>\n      <td>0.07497</td>\n      <td>1.0</td>\n      <td>517.518421</td>\n    </tr>\n    <tr>\n      <th>95232</th>\n      <td>36</td>\n      <td>16102.500558</td>\n      <td>465.570007</td>\n      <td>15000</td>\n      <td>16670.695312</td>\n      <td>0.0</td>\n      <td>-568.194755</td>\n      <td>-0.035286</td>\n      <td>1.0</td>\n      <td>-568.194755</td>\n    </tr>\n    <tr>\n      <th>106609</th>\n      <td>36</td>\n      <td>5032.799721</td>\n      <td>160.779999</td>\n      <td>4000</td>\n      <td>4421.113770</td>\n      <td>0.0</td>\n      <td>611.685951</td>\n      <td>0.12154</td>\n      <td>1.0</td>\n      <td>611.685951</td>\n    </tr>\n    <tr>\n      <th>43092</th>\n      <td>36</td>\n      <td>5902.99964</td>\n      <td>180.919998</td>\n      <td>5000</td>\n      <td>5348.210938</td>\n      <td>0.0</td>\n      <td>554.788702</td>\n      <td>0.093984</td>\n      <td>1.0</td>\n      <td>554.788702</td>\n    </tr>\n    <tr>\n      <th>...</th>\n      <td>...</td>\n      <td>...</td>\n      <td>...</td>\n      <td>...</td>\n      <td>...</td>\n      <td>...</td>\n      <td>...</td>\n      <td>...</td>\n      <td>...</td>\n      <td>...</td>\n    </tr>\n    <tr>\n      <th>141427</th>\n      <td>36</td>\n      <td>2280.400038</td>\n      <td>68.379997</td>\n      <td>2000</td>\n      <td>2015.719971</td>\n      <td>0.0</td>\n      <td>264.680067</td>\n      <td>0.116067</td>\n      <td>1.0</td>\n      <td>264.680067</td>\n    </tr>\n    <tr>\n      <th>27263</th>\n      <td>60</td>\n      <td>11607.999802</td>\n      <td>243.610001</td>\n      <td>10000</td>\n      <td>10044.669922</td>\n      <td>0.0</td>\n      <td>1563.32988</td>\n      <td>0.134677</td>\n      <td>1.0</td>\n      <td>1563.32988</td>\n    </tr>\n    <tr>\n      <th>74748</th>\n      <td>36</td>\n      <td>11388.299704</td>\n      <td>331.269989</td>\n      <td>10500</td>\n      <td>10502.469727</td>\n      <td>0.0</td>\n      <td>885.829977</td>\n      <td>0.077784</td>\n      <td>1.0</td>\n      <td>885.829977</td>\n    </tr>\n    <tr>\n      <th>183312</th>\n      <td>36</td>\n      <td>11607.999802</td>\n      <td>351.970001</td>\n      <td>10000</td>\n      <td>10053.599609</td>\n      <td>0.0</td>\n      <td>1554.400192</td>\n      <td>0.133908</td>\n      <td>1.0</td>\n      <td>1554.400192</td>\n    </tr>\n    <tr>\n      <th>162368</th>\n      <td>36</td>\n      <td>5540.500283</td>\n      <td>163.250000</td>\n      <td>5000</td>\n      <td>5018.020020</td>\n      <td>0.0</td>\n      <td>522.480264</td>\n      <td>0.094302</td>\n      <td>1.0</td>\n      <td>522.480264</td>\n    </tr>\n  </tbody>\n</table>\n<p>31145 rows × 10 columns</p>\n</div>"
     },
     "execution_count": 23,
     "metadata": {},
     "output_type": "execute_result"
    }
   ],
   "source": [
    "test_df[test_df.default == 0][['term', 'principal', 'installment', 'loan_amnt', 'total_pymnt', 'recoveries', 'ead', 'ead_ratio', 'lgd_ratio', 'losses']]"
   ],
   "metadata": {
    "collapsed": false,
    "ExecuteTime": {
     "start_time": "2023-04-06T18:55:46.685295Z",
     "end_time": "2023-04-06T18:55:46.781241Z"
    }
   }
  },
  {
   "cell_type": "markdown",
   "source": [
    "## Criando as categorias de risco usando o score de predição (quantis)"
   ],
   "metadata": {
    "collapsed": false
   }
  },
  {
   "cell_type": "code",
   "execution_count": 24,
   "outputs": [
    {
     "data": {
      "text/plain": "179918    G\n188736    E\n52660     H\n95232     B\n136500    H\n         ..\n141427    D\n27263     F\n74748     A\n183312    E\n162368    B\nName: risk_category, Length: 40000, dtype: category\nCategories (8, object): ['A' < 'B' < 'C' < 'D' < 'E' < 'F' < 'G' < 'H']"
     },
     "execution_count": 24,
     "metadata": {},
     "output_type": "execute_result"
    }
   ],
   "source": [
    "test_df['risk_category'], bins = pd.qcut(test_df.y_score, 8, labels=['A', 'B', 'C', 'D', 'E', 'F', 'G', 'H'], retbins=True)\n",
    "test_df['risk_category']"
   ],
   "metadata": {
    "collapsed": false,
    "ExecuteTime": {
     "start_time": "2023-04-06T18:55:55.634227Z",
     "end_time": "2023-04-06T18:55:55.719674Z"
    }
   }
  },
  {
   "cell_type": "markdown",
   "source": [],
   "metadata": {
    "collapsed": false
   }
  },
  {
   "cell_type": "markdown",
   "source": [
    "## Computando as métricas (PD,EAD, LGD) usando as categorias de risco"
   ],
   "metadata": {
    "collapsed": false
   }
  },
  {
   "cell_type": "code",
   "execution_count": 40,
   "outputs": [
    {
     "data": {
      "text/plain": "179918    0.0\n188736    0.0\n52660     1.0\n95232     0.0\n136500    1.0\n         ... \n141427    0.0\n27263     0.0\n74748     0.0\n183312    0.0\n162368    0.0\nName: default, Length: 40000, dtype: float64"
     },
     "execution_count": 40,
     "metadata": {},
     "output_type": "execute_result"
    }
   ],
   "source": [
    "test_df.default"
   ],
   "metadata": {
    "collapsed": false,
    "ExecuteTime": {
     "start_time": "2023-04-06T19:57:10.995258Z",
     "end_time": "2023-04-06T19:57:11.068358Z"
    }
   }
  },
  {
   "cell_type": "code",
   "execution_count": 27,
   "outputs": [],
   "source": [
    "default_table = test_df.groupby(['risk_category', 'term']).agg(\n",
    "    default_ratio=('default','mean'),\n",
    "    int_rate=('int_rate', 'mean'),\n",
    "    principal=('principal','mean'),\n",
    "    total=('id', 'count')\n",
    ").reset_index()"
   ],
   "metadata": {
    "collapsed": false,
    "ExecuteTime": {
     "start_time": "2023-04-06T18:58:15.176171Z",
     "end_time": "2023-04-06T18:58:15.242188Z"
    }
   }
  },
  {
   "cell_type": "code",
   "execution_count": 28,
   "outputs": [],
   "source": [
    "policy_table = test_df[test_df.default == 1].groupby(['risk_category', 'term']).agg(\n",
    "    EAD=('ead_ratio', 'mean'),\n",
    "    LGD=('lgd_ratio', 'mean'),\n",
    "    total_default=('id', 'count'),\n",
    "    int_rate_default=('int_rate', 'mean'),\n",
    ").reset_index()\n",
    "\n",
    "policy_table = pd.merge(policy_table, default_table, on=['risk_category', 'term'])"
   ],
   "metadata": {
    "collapsed": false,
    "ExecuteTime": {
     "start_time": "2023-04-06T18:58:16.042581Z",
     "end_time": "2023-04-06T18:58:16.204190Z"
    }
   }
  },
  {
   "cell_type": "code",
   "execution_count": 29,
   "outputs": [],
   "source": [
    "# Tabela com as metricas para a politica de emprestimos de 3 anos\n",
    "policy_3 = policy_table.loc[policy_table.term == 36].copy()\n",
    "\n",
    "# Tabela com as metricas para a politica de emprestimos de 4 anos\n",
    "policy_5 = policy_table.loc[policy_table.term == 60].copy()"
   ],
   "metadata": {
    "collapsed": false,
    "ExecuteTime": {
     "start_time": "2023-04-06T18:58:16.935678Z",
     "end_time": "2023-04-06T18:58:16.973374Z"
    }
   }
  },
  {
   "cell_type": "code",
   "execution_count": 30,
   "outputs": [
    {
     "data": {
      "text/plain": "   risk_category  term       EAD       LGD  total_default  int_rate_default  \\\n0              A    36  0.682892  0.891607            278          0.074318   \n2              B    36  0.645689  0.532034            514          0.093177   \n4              C    36  0.643164  0.917048            610          0.110797   \n6              D    36   0.63692  0.870277            777          0.126292   \n8              E    36  0.631625  0.850597            856          0.143748   \n10             F    36  0.633642  0.818412            941          0.161657   \n12             G    36  0.649715  0.884711            903          0.179419   \n14             H    36  0.657489  0.895965            611          0.204665   \n\n    default_ratio  int_rate     principal  total  \n0        0.057178  0.071027  15062.091627   4862  \n2        0.111569  0.088439  14135.907537   4607  \n4        0.140748  0.105308  13870.172681   4334  \n6        0.189790  0.123817  13675.928196   4094  \n8        0.222511  0.140321  13405.646194   3847  \n10       0.269088  0.158938  13830.852861   3497  \n12       0.312998  0.177469   14881.13978   2885  \n14       0.411725  0.201285   16523.74656   1484  ",
      "text/html": "<div>\n<style scoped>\n    .dataframe tbody tr th:only-of-type {\n        vertical-align: middle;\n    }\n\n    .dataframe tbody tr th {\n        vertical-align: top;\n    }\n\n    .dataframe thead th {\n        text-align: right;\n    }\n</style>\n<table border=\"1\" class=\"dataframe\">\n  <thead>\n    <tr style=\"text-align: right;\">\n      <th></th>\n      <th>risk_category</th>\n      <th>term</th>\n      <th>EAD</th>\n      <th>LGD</th>\n      <th>total_default</th>\n      <th>int_rate_default</th>\n      <th>default_ratio</th>\n      <th>int_rate</th>\n      <th>principal</th>\n      <th>total</th>\n    </tr>\n  </thead>\n  <tbody>\n    <tr>\n      <th>0</th>\n      <td>A</td>\n      <td>36</td>\n      <td>0.682892</td>\n      <td>0.891607</td>\n      <td>278</td>\n      <td>0.074318</td>\n      <td>0.057178</td>\n      <td>0.071027</td>\n      <td>15062.091627</td>\n      <td>4862</td>\n    </tr>\n    <tr>\n      <th>2</th>\n      <td>B</td>\n      <td>36</td>\n      <td>0.645689</td>\n      <td>0.532034</td>\n      <td>514</td>\n      <td>0.093177</td>\n      <td>0.111569</td>\n      <td>0.088439</td>\n      <td>14135.907537</td>\n      <td>4607</td>\n    </tr>\n    <tr>\n      <th>4</th>\n      <td>C</td>\n      <td>36</td>\n      <td>0.643164</td>\n      <td>0.917048</td>\n      <td>610</td>\n      <td>0.110797</td>\n      <td>0.140748</td>\n      <td>0.105308</td>\n      <td>13870.172681</td>\n      <td>4334</td>\n    </tr>\n    <tr>\n      <th>6</th>\n      <td>D</td>\n      <td>36</td>\n      <td>0.63692</td>\n      <td>0.870277</td>\n      <td>777</td>\n      <td>0.126292</td>\n      <td>0.189790</td>\n      <td>0.123817</td>\n      <td>13675.928196</td>\n      <td>4094</td>\n    </tr>\n    <tr>\n      <th>8</th>\n      <td>E</td>\n      <td>36</td>\n      <td>0.631625</td>\n      <td>0.850597</td>\n      <td>856</td>\n      <td>0.143748</td>\n      <td>0.222511</td>\n      <td>0.140321</td>\n      <td>13405.646194</td>\n      <td>3847</td>\n    </tr>\n    <tr>\n      <th>10</th>\n      <td>F</td>\n      <td>36</td>\n      <td>0.633642</td>\n      <td>0.818412</td>\n      <td>941</td>\n      <td>0.161657</td>\n      <td>0.269088</td>\n      <td>0.158938</td>\n      <td>13830.852861</td>\n      <td>3497</td>\n    </tr>\n    <tr>\n      <th>12</th>\n      <td>G</td>\n      <td>36</td>\n      <td>0.649715</td>\n      <td>0.884711</td>\n      <td>903</td>\n      <td>0.179419</td>\n      <td>0.312998</td>\n      <td>0.177469</td>\n      <td>14881.13978</td>\n      <td>2885</td>\n    </tr>\n    <tr>\n      <th>14</th>\n      <td>H</td>\n      <td>36</td>\n      <td>0.657489</td>\n      <td>0.895965</td>\n      <td>611</td>\n      <td>0.204665</td>\n      <td>0.411725</td>\n      <td>0.201285</td>\n      <td>16523.74656</td>\n      <td>1484</td>\n    </tr>\n  </tbody>\n</table>\n</div>"
     },
     "execution_count": 30,
     "metadata": {},
     "output_type": "execute_result"
    }
   ],
   "source": [
    "policy_3"
   ],
   "metadata": {
    "collapsed": false,
    "ExecuteTime": {
     "start_time": "2023-04-06T18:58:17.894446Z",
     "end_time": "2023-04-06T18:58:18.035869Z"
    }
   }
  },
  {
   "cell_type": "code",
   "execution_count": 64,
   "outputs": [
    {
     "data": {
      "text/plain": "   risk_category  term       EAD       LGD  total_default  int_rate_default  \\\n1              A    60  0.786479  0.978938             12          0.085025   \n3              B    60  0.747898  0.904268             48          0.099631   \n5              C    60  0.752122  0.936136             93          0.112123   \n7              D    60  0.707221   0.46268            161          0.125627   \n9              E    60  0.747914  0.929866            267          0.134967   \n11             F    60  0.728874  0.901818            442          0.153597   \n13             G    60  0.712117  0.897672            720          0.173487   \n15             H    60  0.699487  0.886932           1622          0.212422   \n\n    default_ratio  int_rate     principal  total  \n1        0.086957  0.079757  27831.577865    138  \n3        0.122137  0.100411  25024.706361    393  \n5        0.139640  0.109070  26021.472478    666  \n7        0.177704  0.123162  25017.040529    906  \n9        0.231570  0.133831  25689.431172   1153  \n11       0.293883  0.148929  25301.829049   1504  \n13       0.340587  0.169922   24739.48097   2114  \n15       0.461320  0.206898  24648.093754   3516  ",
      "text/html": "<div>\n<style scoped>\n    .dataframe tbody tr th:only-of-type {\n        vertical-align: middle;\n    }\n\n    .dataframe tbody tr th {\n        vertical-align: top;\n    }\n\n    .dataframe thead th {\n        text-align: right;\n    }\n</style>\n<table border=\"1\" class=\"dataframe\">\n  <thead>\n    <tr style=\"text-align: right;\">\n      <th></th>\n      <th>risk_category</th>\n      <th>term</th>\n      <th>EAD</th>\n      <th>LGD</th>\n      <th>total_default</th>\n      <th>int_rate_default</th>\n      <th>default_ratio</th>\n      <th>int_rate</th>\n      <th>principal</th>\n      <th>total</th>\n    </tr>\n  </thead>\n  <tbody>\n    <tr>\n      <th>1</th>\n      <td>A</td>\n      <td>60</td>\n      <td>0.786479</td>\n      <td>0.978938</td>\n      <td>12</td>\n      <td>0.085025</td>\n      <td>0.086957</td>\n      <td>0.079757</td>\n      <td>27831.577865</td>\n      <td>138</td>\n    </tr>\n    <tr>\n      <th>3</th>\n      <td>B</td>\n      <td>60</td>\n      <td>0.747898</td>\n      <td>0.904268</td>\n      <td>48</td>\n      <td>0.099631</td>\n      <td>0.122137</td>\n      <td>0.100411</td>\n      <td>25024.706361</td>\n      <td>393</td>\n    </tr>\n    <tr>\n      <th>5</th>\n      <td>C</td>\n      <td>60</td>\n      <td>0.752122</td>\n      <td>0.936136</td>\n      <td>93</td>\n      <td>0.112123</td>\n      <td>0.139640</td>\n      <td>0.109070</td>\n      <td>26021.472478</td>\n      <td>666</td>\n    </tr>\n    <tr>\n      <th>7</th>\n      <td>D</td>\n      <td>60</td>\n      <td>0.707221</td>\n      <td>0.46268</td>\n      <td>161</td>\n      <td>0.125627</td>\n      <td>0.177704</td>\n      <td>0.123162</td>\n      <td>25017.040529</td>\n      <td>906</td>\n    </tr>\n    <tr>\n      <th>9</th>\n      <td>E</td>\n      <td>60</td>\n      <td>0.747914</td>\n      <td>0.929866</td>\n      <td>267</td>\n      <td>0.134967</td>\n      <td>0.231570</td>\n      <td>0.133831</td>\n      <td>25689.431172</td>\n      <td>1153</td>\n    </tr>\n    <tr>\n      <th>11</th>\n      <td>F</td>\n      <td>60</td>\n      <td>0.728874</td>\n      <td>0.901818</td>\n      <td>442</td>\n      <td>0.153597</td>\n      <td>0.293883</td>\n      <td>0.148929</td>\n      <td>25301.829049</td>\n      <td>1504</td>\n    </tr>\n    <tr>\n      <th>13</th>\n      <td>G</td>\n      <td>60</td>\n      <td>0.712117</td>\n      <td>0.897672</td>\n      <td>720</td>\n      <td>0.173487</td>\n      <td>0.340587</td>\n      <td>0.169922</td>\n      <td>24739.48097</td>\n      <td>2114</td>\n    </tr>\n    <tr>\n      <th>15</th>\n      <td>H</td>\n      <td>60</td>\n      <td>0.699487</td>\n      <td>0.886932</td>\n      <td>1622</td>\n      <td>0.212422</td>\n      <td>0.461320</td>\n      <td>0.206898</td>\n      <td>24648.093754</td>\n      <td>3516</td>\n    </tr>\n  </tbody>\n</table>\n</div>"
     },
     "execution_count": 64,
     "metadata": {},
     "output_type": "execute_result"
    }
   ],
   "source": [
    "policy_5"
   ],
   "metadata": {
    "collapsed": false,
    "ExecuteTime": {
     "start_time": "2023-04-06T12:09:03.972628Z",
     "end_time": "2023-04-06T12:09:03.976958Z"
    }
   }
  },
  {
   "cell_type": "markdown",
   "source": [
    "## Fórmula da taxa de juros mínima da política de crédito"
   ],
   "metadata": {
    "collapsed": false
   }
  },
  {
   "cell_type": "markdown",
   "source": [
    "$$ ROI = netprofit/loanamnt $$\n",
    "$$ netprofit/loanamnt >= 0.025*term $$\n",
    "$$ (loanamnt*IR - EAD*LGD*P(D)*(1+IR)*loanamnt - costsfee)/loanamnt >= 0.025*term $$\n",
    "$$ (loanamnt*[IR - E(losses)*(1+IR))/loanamnt - costsfee/loanamnt >= 0.025*term $$\n",
    "$$ IR - E(losses)*(1+IR) - costsfee/loanamnt >= 0.025*term $$\n",
    "$$ IR - E(losses) - E(losses)*IR - costsfee/loanamnt >= 0.025*term $$\n",
    "$$ IR - E(losses) - E(losses)*IR >= 0.025*term + costsfee/loanamnt $$\n",
    "$$ IR - E(losses) - E(losses)*IR >= 0.025*term + costsfee/loanamnt $$\n",
    "$$ IR - E(losses)*IR >= 0.025*term + costsfee/loanamnt + E(losses) $$\n",
    "$$ IR(1-E(losses)) >= 0.025*term + costsfee/loanamnt + E(losses) $$\n",
    "$$ IR >= \\frac{0.025*term + costsfee/loanamnt + E(losses)}{1-E(losses)} $$\n"
   ],
   "metadata": {
    "collapsed": false
   }
  },
  {
   "cell_type": "markdown",
   "source": [
    "## Criando a política de crédito"
   ],
   "metadata": {
    "collapsed": false
   }
  },
  {
   "cell_type": "code",
   "execution_count": 65,
   "outputs": [
    {
     "data": {
      "text/plain": "{'ROI': 0.07120399999999999,\n 'ROI_annualized': 0.023734666666666664,\n 'principal': 55000.00000000001,\n 'expected_loss': 1339.8000000000004,\n 'profit': 5000.0,\n 'net_profit': 3560.2,\n 'default_prob': 0.14,\n 'EAD': 0.2,\n 'LGD': 0.87}"
     },
     "execution_count": 65,
     "metadata": {},
     "output_type": "execute_result"
    }
   ],
   "source": [
    "# term will have an effect on the probability of default, also on the EAD/LGD\n",
    "def compute_roi(int_rate, loan_amnt, default_prob, EAD, LGD, loan_fees, term_years):\n",
    "    EAD_LGD = EAD*LGD\n",
    "    principal = (1 + int_rate)*loan_amnt\n",
    "    expected_loss = principal*EAD_LGD*default_prob\n",
    "    profit = (int_rate*loan_amnt)\n",
    "    net_profit = profit - expected_loss - loan_fees*loan_amnt\n",
    "    ROI = net_profit/loan_amnt\n",
    "    ROI_annualized = ROI/term_years\n",
    "\n",
    "    return {\n",
    "        'ROI': ROI,\n",
    "        'ROI_annualized': ROI_annualized,\n",
    "        'principal': principal,\n",
    "        'expected_loss': expected_loss,\n",
    "        'profit': profit,\n",
    "        'net_profit': net_profit,\n",
    "        'default_prob': default_prob,\n",
    "        'EAD': EAD,\n",
    "        'LGD': LGD\n",
    "    }\n",
    "\n",
    "compute_roi(int_rate=0.10, loan_amnt=50000, default_prob=0.14, EAD=0.2, LGD=0.87, loan_fees=0.002, term_years=3)"
   ],
   "metadata": {
    "collapsed": false,
    "ExecuteTime": {
     "start_time": "2023-04-06T12:09:05.555625Z",
     "end_time": "2023-04-06T12:09:05.564305Z"
    }
   }
  },
  {
   "cell_type": "code",
   "execution_count": 66,
   "outputs": [
    {
     "data": {
      "text/plain": "{'best_interest_rate': 0.11992360372007702,\n 'ROI': 0.07500000000000001,\n 'ROI_annualized': 0.025000000000000005,\n 'principal': 55996.180186003854,\n 'expected_loss': 2146.18018600385,\n 'profit': 5996.18018600385,\n 'net_profit': 3750.0000000000005,\n 'default_prob': 0.11156935098762752,\n 'EAD': 0.6456892475674417,\n 'LGD': 0.5320339149476997}"
     },
     "execution_count": 66,
     "metadata": {},
     "output_type": "execute_result"
    }
   ],
   "source": [
    "def compute_best_interest_rate(term_years, expected_losses, loan_fees, ir_constraint=0.025):\n",
    "    best_ir = (0.025*term_years + expected_losses + loan_fees)/(1 - expected_losses)\n",
    "    return best_ir\n",
    "\n",
    "def compute_policy_interest_rate(loan_amnt, loan_fees, risk, policy_table):\n",
    "    term_months = policy_3.term.iloc[0]\n",
    "    term_years = term_months/12\n",
    "\n",
    "    default_prob = policy_table.loc[policy_table.risk_category == risk, 'default_ratio'].item()\n",
    "    EAD = policy_table.loc[policy_table.risk_category == risk, 'EAD'].item()\n",
    "    LGD = policy_table.loc[policy_table.risk_category == risk, 'LGD'].item()\n",
    "\n",
    "    expected_losses = EAD*LGD*default_prob\n",
    "    best_ir = compute_best_interest_rate(term_years, expected_losses, loan_fees)\n",
    "\n",
    "    roi_return = compute_roi(best_ir, loan_amnt, default_prob, EAD, LGD, loan_fees, term_years)\n",
    "\n",
    "    policy_ret = {'best_interest_rate': best_ir}\n",
    "    policy_ret.update(roi_return)\n",
    "\n",
    "    return policy_ret\n",
    "\n",
    "compute_policy_interest_rate(50000, 0.002, 'B',  policy_3)"
   ],
   "metadata": {
    "collapsed": false,
    "ExecuteTime": {
     "start_time": "2023-04-06T12:09:06.142151Z",
     "end_time": "2023-04-06T12:09:06.157431Z"
    }
   }
  },
  {
   "cell_type": "code",
   "execution_count": 67,
   "outputs": [],
   "source": [
    "test_df['credit_policy_interest_rate'] = test_df.apply(\n",
    "    lambda row: compute_policy_interest_rate(row['loan_amnt'], loan_fees=0.002, risk=row['risk_category'], policy_table=policy_3)['best_interest_rate'],\n",
    "    axis=1\n",
    ")"
   ],
   "metadata": {
    "collapsed": false,
    "ExecuteTime": {
     "start_time": "2023-04-06T12:09:06.942223Z",
     "end_time": "2023-04-06T12:09:36.576558Z"
    }
   }
  },
  {
   "cell_type": "code",
   "execution_count": 68,
   "outputs": [
    {
     "data": {
      "text/plain": "   default  term  credit_policy_interest_rate_mean  \\\n0      0.0    36                          0.192673   \n2      1.0    36                          0.241722   \n1      0.0    60                          0.285896   \n3      1.0    60                          0.337835   \n\n   credit_policy_interest_rate_std  \n0                         0.075289  \n2                         0.086163  \n1                         0.096995  \n3                         0.089467  ",
      "text/html": "<div>\n<style scoped>\n    .dataframe tbody tr th:only-of-type {\n        vertical-align: middle;\n    }\n\n    .dataframe tbody tr th {\n        vertical-align: top;\n    }\n\n    .dataframe thead th {\n        text-align: right;\n    }\n</style>\n<table border=\"1\" class=\"dataframe\">\n  <thead>\n    <tr style=\"text-align: right;\">\n      <th></th>\n      <th>default</th>\n      <th>term</th>\n      <th>credit_policy_interest_rate_mean</th>\n      <th>credit_policy_interest_rate_std</th>\n    </tr>\n  </thead>\n  <tbody>\n    <tr>\n      <th>0</th>\n      <td>0.0</td>\n      <td>36</td>\n      <td>0.192673</td>\n      <td>0.075289</td>\n    </tr>\n    <tr>\n      <th>2</th>\n      <td>1.0</td>\n      <td>36</td>\n      <td>0.241722</td>\n      <td>0.086163</td>\n    </tr>\n    <tr>\n      <th>1</th>\n      <td>0.0</td>\n      <td>60</td>\n      <td>0.285896</td>\n      <td>0.096995</td>\n    </tr>\n    <tr>\n      <th>3</th>\n      <td>1.0</td>\n      <td>60</td>\n      <td>0.337835</td>\n      <td>0.089467</td>\n    </tr>\n  </tbody>\n</table>\n</div>"
     },
     "execution_count": 68,
     "metadata": {},
     "output_type": "execute_result"
    }
   ],
   "source": [
    "df_gp = test_df.groupby(['default', 'term']).agg(\n",
    "    credit_policy_interest_rate_mean=('credit_policy_interest_rate','mean'),\n",
    "    credit_policy_interest_rate_std=('credit_policy_interest_rate','std'),\n",
    ").reset_index().sort_values('term')\n",
    "df_gp"
   ],
   "metadata": {
    "collapsed": false,
    "ExecuteTime": {
     "start_time": "2023-04-06T12:09:36.582097Z",
     "end_time": "2023-04-06T12:09:36.596292Z"
    }
   }
  },
  {
   "cell_type": "code",
   "execution_count": 75,
   "outputs": [
    {
     "data": {
      "text/plain": "<AxesSubplot: xlabel='term', ylabel='credit_policy_interest_rate_mean'>"
     },
     "execution_count": 75,
     "metadata": {},
     "output_type": "execute_result"
    },
    {
     "data": {
      "text/plain": "<Figure size 640x480 with 1 Axes>",
      "image/png": "[encoded data removed]"
     },
     "metadata": {},
     "output_type": "display_data"
    }
   ],
   "source": [
    "sns.barplot(data=df_gp, x=\"term\", y=\"credit_policy_interest_rate_mean\", hue=\"default\", palette=['gray', primary_color])"
   ],
   "metadata": {
    "collapsed": false,
    "ExecuteTime": {
     "start_time": "2023-04-06T12:11:50.650810Z",
     "end_time": "2023-04-06T12:11:50.872945Z"
    }
   }
  }
 ],
 "metadata": {
  "kernelspec": {
   "display_name": "Python 3",
   "language": "python",
   "name": "python3"
  },
  "language_info": {
   "codemirror_mode": {
    "name": "ipython",
    "version": 2
   },
   "file_extension": ".py",
   "mimetype": "text/x-python",
   "name": "python",
   "nbconvert_exporter": "python",
   "pygments_lexer": "ipython2",
   "version": "2.7.6"
  }
 },
 "nbformat": 4,
 "nbformat_minor": 0
}
